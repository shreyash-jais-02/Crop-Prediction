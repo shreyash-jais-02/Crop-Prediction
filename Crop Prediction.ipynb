{
 "cells": [
  {
   "cell_type": "code",
   "execution_count": 1,
   "id": "4f2dea06-5e47-41b2-a69c-c0c2b12eafbc",
   "metadata": {
    "tags": []
   },
   "outputs": [],
   "source": [
    "#import the modules\n",
    "import tensorflow as tf\n",
    "import numpy as np\n",
    "from tensorflow import keras\n",
    "from tensorflow.keras import layers\n",
    "import pandas as pd\n",
    "from sklearn.preprocessing import LabelEncoder"
   ]
  },
  {
   "cell_type": "code",
   "execution_count": 2,
   "id": "96cd3ea7-8b42-4ae9-85ea-908fd267cbfd",
   "metadata": {
    "tags": []
   },
   "outputs": [],
   "source": [
    "# Load CSV data\n",
    "df = pd.read_csv(\"D:\\\\EPICS\\\\Rain_crop_prediction\\\\Crop_recommendation.csv\")"
   ]
  },
  {
   "cell_type": "code",
   "execution_count": 3,
   "id": "ad11c5a4-a606-4014-ac94-85610b967679",
   "metadata": {
    "tags": []
   },
   "outputs": [],
   "source": [
    "# Encode categorical label\n",
    "le = LabelEncoder()\n",
    "df['label'] = le.fit_transform(df['label'])"
   ]
  },
  {
   "cell_type": "code",
   "execution_count": 4,
   "id": "b80d16ca-2aaf-499f-bab2-cbf1a7f077b7",
   "metadata": {},
   "outputs": [],
   "source": [
    "# Split data into input and output\n",
    "X = df.iloc[:, :-1]\n",
    "y = df.iloc[:, -1]"
   ]
  },
  {
   "cell_type": "code",
   "execution_count": 5,
   "id": "ba85a165-e9fd-4dd6-91f3-e43e9ee53e05",
   "metadata": {
    "tags": []
   },
   "outputs": [],
   "source": [
    "# Define the model\n",
    "model = keras.Sequential([\n",
    "    layers.Dense(16, activation='relu', input_shape=(X.shape[1],)),\n",
    "    layers.Dense(32, activation='relu'),\n",
    "    layers.Dense(64, activation='relu'),\n",
    "    layers.Dense(32, activation='relu'),\n",
    "    layers.Dense(len(le.classes_), activation='softmax')\n",
    "])"
   ]
  },
  {
   "cell_type": "code",
   "execution_count": 6,
   "id": "07b7ddca-d852-4e15-9eea-750d2a4bf958",
   "metadata": {
    "tags": []
   },
   "outputs": [],
   "source": [
    "# Compile the model\n",
    "model.compile(loss='categorical_crossentropy', optimizer='adam', metrics=['accuracy'])"
   ]
  },
  {
   "cell_type": "code",
   "execution_count": 7,
   "id": "a561efff-48ee-445f-a0ba-3215cda5f15b",
   "metadata": {},
   "outputs": [],
   "source": [
    "# Convert labels to one-hot encoding\n",
    "y_one_hot = keras.utils.to_categorical(y, num_classes=len(le.classes_))"
   ]
  },
  {
   "cell_type": "code",
   "execution_count": 8,
   "id": "b6d43039-24ae-48e6-bcf5-aa561c8ca18b",
   "metadata": {
    "tags": []
   },
   "outputs": [
    {
     "name": "stdout",
     "output_type": "stream",
     "text": [
      "Epoch 1/10\n",
      "69/69 [==============================] - 1s 1ms/step - loss: 4.8130 - accuracy: 0.2468\n",
      "Epoch 2/10\n",
      "69/69 [==============================] - 0s 1ms/step - loss: 1.3015 - accuracy: 0.5995\n",
      "Epoch 3/10\n",
      "69/69 [==============================] - 0s 1ms/step - loss: 0.8168 - accuracy: 0.7500\n",
      "Epoch 4/10\n",
      "69/69 [==============================] - 0s 1ms/step - loss: 0.5128 - accuracy: 0.8414\n",
      "Epoch 5/10\n",
      "69/69 [==============================] - 0s 1ms/step - loss: 0.3425 - accuracy: 0.9027\n",
      "Epoch 6/10\n",
      "69/69 [==============================] - 0s 1ms/step - loss: 0.2375 - accuracy: 0.9359\n",
      "Epoch 7/10\n",
      "69/69 [==============================] - 0s 1ms/step - loss: 0.1929 - accuracy: 0.9373\n",
      "Epoch 8/10\n",
      "69/69 [==============================] - 0s 2ms/step - loss: 0.1694 - accuracy: 0.9414\n",
      "Epoch 9/10\n",
      "69/69 [==============================] - 0s 1ms/step - loss: 0.1581 - accuracy: 0.9436\n",
      "Epoch 10/10\n",
      "69/69 [==============================] - 0s 1ms/step - loss: 0.1596 - accuracy: 0.9418\n"
     ]
    },
    {
     "data": {
      "text/plain": [
       "<keras.callbacks.History at 0x1e1c83a2e00>"
      ]
     },
     "execution_count": 8,
     "metadata": {},
     "output_type": "execute_result"
    }
   ],
   "source": [
    "# Train the model\n",
    "model.fit(X, y_one_hot, epochs=10, batch_size=32)"
   ]
  },
  {
   "cell_type": "code",
   "execution_count": 9,
   "id": "2d80eb23-1d6b-4521-a076-868cc5dbb779",
   "metadata": {},
   "outputs": [
    {
     "name": "stdout",
     "output_type": "stream",
     "text": [
      "Enter the values of N, P, K, temperature, humidity, ph, rainfall (separated by comma):\n"
     ]
    },
    {
     "name": "stdin",
     "output_type": "stream",
     "text": [
      " 68, 40, 19, 26.14384, 66.2057, 6.655426, 107.2361\n"
     ]
    }
   ],
   "source": [
    "# Take input from user\n",
    "print('Enter the values of N, P, K, temperature, humidity, ph, rainfall (separated by comma):')\n",
    "user_input = input().strip().split(',')\n",
    "user_input = [float(i) for i in user_input]\n",
    "user_input = [user_input]  # wrap in list to match shape (None, X.shape[1])"
   ]
  },
  {
   "cell_type": "code",
   "execution_count": 10,
   "id": "4a13258e-82c3-4adb-9537-c67974b438ac",
   "metadata": {
    "tags": []
   },
   "outputs": [
    {
     "name": "stdout",
     "output_type": "stream",
     "text": [
      "1/1 [==============================] - 0s 93ms/step\n",
      "The predicted crop is: maize\n"
     ]
    }
   ],
   "source": [
    "# Predict the output\n",
    "prediction = model.predict(user_input)[0]\n",
    "predicted_label = le.inverse_transform([np.argmax(prediction)])[0]\n",
    "print(f\"The predicted crop is: {predicted_label}\")"
   ]
  }
 ],
 "metadata": {
  "kernelspec": {
   "display_name": "Python 3 (ipykernel)",
   "language": "python",
   "name": "python3"
  },
  "language_info": {
   "codemirror_mode": {
    "name": "ipython",
    "version": 3
   },
   "file_extension": ".py",
   "mimetype": "text/x-python",
   "name": "python",
   "nbconvert_exporter": "python",
   "pygments_lexer": "ipython3",
   "version": "3.10.4"
  }
 },
 "nbformat": 4,
 "nbformat_minor": 5
}
